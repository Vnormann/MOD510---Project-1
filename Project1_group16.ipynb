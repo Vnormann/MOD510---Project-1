{
 "cells": [
  {
   "cell_type": "code",
   "execution_count": null,
   "metadata": {},
   "outputs": [],
   "source": []
  },
  {
   "cell_type": "markdown",
   "metadata": {},
   "source": [
    "Exercise 1\n",
    "    Part 1: all\n",
    "    Part 2: V\n",
    "    Part 3: I \n",
    "    Part 4: J\n",
    "\n",
    "Exercise 2\n",
    "    Part 1: V \n",
    "    Part 2: V\n",
    "    Part 3: I\n",
    "    Part 4: J\n",
    "\n",
    "Exerice 3, Part I\n",
    "    Part 1\n",
    "    Part 2\n",
    "    Part 3\n",
    "    Part 4\n",
    "    Part 5\n",
    "\n",
    "Exerice 3, Part II\n",
    "    Part 1\n",
    "    Part 2\n",
    "\n",
    "Exercise 4\n",
    "    Part 1\n",
    "    Part 2\n",
    "    Part 3\n",
    "    Part 4"
   ]
  }
 ],
 "metadata": {
  "kernelspec": {
   "display_name": "Python 3.8.8 ('base')",
   "language": "python",
   "name": "python3"
  },
  "language_info": {
   "name": "python",
   "version": "3.8.8"
  },
  "orig_nbformat": 4,
  "vscode": {
   "interpreter": {
    "hash": "413bbbb19369cc901bad5c15e51d3d9af4ea606eb8f0da4e72ab6f64d3d88561"
   }
  }
 },
 "nbformat": 4,
 "nbformat_minor": 2
}
