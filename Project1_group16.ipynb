{
 "cells": [
  {
   "cell_type": "markdown",
   "metadata": {},
   "source": [
    "We will try to finish all tasks by wedensday, when we meet again.\n",
    "On wedensday we will do Exercise 4 togheter.\n",
    "\n",
    "Exercise 1\n",
    "    Part 1: all\n",
    "    Part 2: V\n",
    "    Part 3: I \n",
    "    Part 4: J\n",
    "\n",
    "Exercise 2\n",
    "    Part 1: V \n",
    "    Part 2: V\n",
    "    Part 3: I\n",
    "    Part 4: J\n",
    "\n",
    "Exerice 3, Part I\n",
    "    Part 1 I\n",
    "    Part 2 I\n",
    "    Part 3 J\n",
    "    Part 4 J\n",
    "    Part 5 V\n",
    "\n",
    "Exerice 3, Part II\n",
    "    Part 1 I\n",
    "    Part 2 V\n",
    "\n",
    "Exercise 4\n",
    "    Part 1 All \n",
    "    Part 2 All\n",
    "    Part 3 All\n",
    "    Part 4 All"
   ]
  },
  {
   "cell_type": "code",
   "execution_count": 1,
   "metadata": {},
   "outputs": [
    {
     "data": {
      "text/plain": [
       "sys.float_info(max=1.7976931348623157e+308, max_exp=1024, max_10_exp=308, min=2.2250738585072014e-308, min_exp=-1021, min_10_exp=-307, dig=15, mant_dig=53, epsilon=2.220446049250313e-16, radix=2, rounds=1)"
      ]
     },
     "execution_count": 1,
     "metadata": {},
     "output_type": "execute_result"
    }
   ],
   "source": [
    "# Exercise 1 - Part 1\n",
    "import sys\n",
    "sys.float_info"
   ]
  },
  {
   "cell_type": "code",
   "execution_count": null,
   "metadata": {},
   "outputs": [],
   "source": [
    "# Exercise 1 - Part 2\n",
    "max = 2**1024\n",
    "print(max)"
   ]
  }
 ],
 "metadata": {
  "kernelspec": {
   "display_name": "Python 3.8.8 ('base')",
   "language": "python",
   "name": "python3"
  },
  "language_info": {
   "codemirror_mode": {
    "name": "ipython",
    "version": 3
   },
   "file_extension": ".py",
   "mimetype": "text/x-python",
   "name": "python",
   "nbconvert_exporter": "python",
   "pygments_lexer": "ipython3",
   "version": "3.8.8"
  },
  "orig_nbformat": 4,
  "vscode": {
   "interpreter": {
    "hash": "413bbbb19369cc901bad5c15e51d3d9af4ea606eb8f0da4e72ab6f64d3d88561"
   }
  }
 },
 "nbformat": 4,
 "nbformat_minor": 2
}
