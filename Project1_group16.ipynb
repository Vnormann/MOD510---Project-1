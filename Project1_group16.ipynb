{
 "cells": [
  {
   "cell_type": "markdown",
   "metadata": {},
   "source": [
    "We will try to finish all tasks by Wednesday, when we meet again.\n",
    "On Wednesday we will do Exercise 4 togheter.\n",
    "\n",
    "### Exercise 1\n",
    "- Part 1: all\n",
    "- Part 2: Vetle\n",
    "- Part 3: Imran\n",
    "- Part 4: Jonas\n",
    "\n",
    "### Exercise 2\n",
    "- Part 1: Vetle\n",
    "- Part 2: Vetle\n",
    "- Part 3: Imran\n",
    "- Part 4: Jonas\n",
    "\n",
    "### Exercise 3, Part I\n",
    "- Part 1: Imran\n",
    "- Part 2: Imran\n",
    "- Part 3: Jonas\n",
    "- Part 4: Jonas\n",
    "- Part 5: Vetle\n",
    "\n",
    "### Exercise 3, Part II\n",
    "- Part 1: Imran\n",
    "- Part 2: Vetle\n",
    "\n",
    "### Exercise 4\n",
    "- Parts 1-4: All "
   ]
  },
  {
   "cell_type": "markdown",
   "metadata": {},
   "source": [
    "# Exercise 1 - Part 1\n",
    "\n"
   ]
  },
  {
   "cell_type": "code",
   "execution_count": 1,
   "metadata": {},
   "outputs": [
    {
     "data": {
      "text/plain": [
       "sys.float_info(max=1.7976931348623157e+308, max_exp=1024, max_10_exp=308, min=2.2250738585072014e-308, min_exp=-1021, min_10_exp=-307, dig=15, mant_dig=53, epsilon=2.220446049250313e-16, radix=2, rounds=1)"
      ]
     },
     "execution_count": 1,
     "metadata": {},
     "output_type": "execute_result"
    }
   ],
   "source": [
    "import sys; sys.float_info"
   ]
  },
  {
   "cell_type": "markdown",
   "metadata": {},
   "source": [
    "`sys.float_info.max` is the largest number that can be represented as a 64-bit floating point number using the IEEE implementation.\n",
    "\n",
    "`sys.float_info.max_exp` is the largest exponent in base 2 that the floating point number can store.\n",
    "\n",
    "`sys.float_info.max_10_exp` is the largest exponent in base 10 that the floating point number can store.\n",
    "\n",
    "`sys.float_info.min` is the smallet number that can be represented as a 64-bit floating point number.\n",
    "\n",
    "`sys.float_info.min_exp` is the smallest exponent in base 2 that the floating point number can store.\n",
    "\n",
    "`sys.float_info.min_10_exp` is the smallest exponent in base 10 that the floating point number can store.\n",
    "\n",
    "`sys.float_info.dig` is the number of digits that can be distinguished in a decimal number. I.e. floating point numbers can be used to distinguish 15-digit decimal integers accurately. Above this, the precision cannot be guaranteed.\n",
    "\n",
    "`sys.float_info.mant_dig` is the number of bits in the mantissa.\n",
    "\n",
    "`sys.float_info.epsilon` is the difference between 1.0 and the next number that can be represented as a floating point number.\n",
    "\n",
    "`sys.float_info.radix` is the base number that is used when calculating the exponent factor.\n",
    "\n",
    "`sys.float_info.rounds` is the rounding mode."
   ]
  },
  {
   "cell_type": "markdown",
   "metadata": {},
   "source": [
    "# Exercise 1 - Part 4\n",
    "1. No, generally we cannot use the double equals (==) operator to check for equality between two floats, because we cannot guarantee that a floating point is accurate to infinite precision. The only time this would work, is if the two floats are identical, i.e. their IEEE 754 representations are exactly the same. There are some finite floating numbers for which this is applicable, e.g. -999.25 (which is used as a NULL value in certain scenarios).\n",
    "2. A better approach would be to use something like the `math.isclose` function. Or write an implementation by hand which checks that the absolute difference between the numbers is less than a given tolerance. Another way could be to truncate the floats and check the resulting strings, though this would be less precise."
   ]
  },
  {
   "cell_type": "markdown",
   "metadata": {},
   "source": [
    "# Exercise 2 - Part 4"
   ]
  },
  {
   "cell_type": "code",
   "execution_count": 2,
   "metadata": {},
   "outputs": [
    {
     "data": {
      "text/plain": [
       "array([4, 5], dtype=int64)"
      ]
     },
     "execution_count": 2,
     "metadata": {},
     "output_type": "execute_result"
    }
   ],
   "source": [
    "import numpy as np\n",
    "array_of_numbers = np.array([4, 8, 15, 16, 23, 42])\n",
    "np.where(array_of_numbers > 17)[0]"
   ]
  },
  {
   "cell_type": "markdown",
   "metadata": {},
   "source": [
    "These are the indices for which the filter applied is true. We see that the 5th and 6th numbers, 23 and 42, both are greater than 17. Arrays are zero-indexed as normal."
   ]
  },
  {
   "cell_type": "code",
   "execution_count": 3,
   "metadata": {},
   "outputs": [
    {
     "data": {
      "text/plain": [
       "array([0, 0, 0, 0, 1, 1])"
      ]
     },
     "execution_count": 3,
     "metadata": {},
     "output_type": "execute_result"
    }
   ],
   "source": [
    "np.where(array_of_numbers > 17, 1, 0)"
   ]
  },
  {
   "cell_type": "markdown",
   "metadata": {},
   "source": [
    "This version of the `where` function works a bit differently. The `True` values of the first argument (`array_of_numbers > 17`) are replaced with the 2nd argument, and the `False` values are replaced with the 3rd argument. (If the 2nd and/or 3rd arguments were arrays themselves, the item at the corresponding index would be chosen instead.) The function is overloaded, and when only the condition is given, the following code is evaluated under the hood:"
   ]
  },
  {
   "cell_type": "code",
   "execution_count": 4,
   "metadata": {},
   "outputs": [
    {
     "data": {
      "text/plain": [
       "array([4, 5], dtype=int64)"
      ]
     },
     "execution_count": 4,
     "metadata": {},
     "output_type": "execute_result"
    }
   ],
   "source": [
    "np.asarray(array_of_numbers > 17).nonzero()[0]"
   ]
  },
  {
   "cell_type": "markdown",
   "metadata": {},
   "source": [
    "# Exercise 3 - Part 3"
   ]
  },
  {
   "cell_type": "code",
   "execution_count": 5,
   "metadata": {},
   "outputs": [
    {
     "name": "stdout",
     "output_type": "stream",
     "text": [
      "forward_difference_derivative(f)(1)=-7.220096595246589\n",
      "analytical_derivative_f(1)=-7.493783027703379\n"
     ]
    }
   ],
   "source": [
    "def forward_difference_derivative(f, h=1e-2):\n",
    "    return lambda x: (f(x + h) - f(x)) / h\n",
    "\n",
    "\n",
    "def analytical_derivative_f(x, a=0.1, b=10):\n",
    "    return b*np.cos(b*x)*np.exp(-a*x**2) - 2*a*x*np.sin(b*x)*np.exp(-a*x**2)\n",
    "\n",
    "\n",
    "def f(x, a=0.1, b=10):\n",
    "    return np.sin(b*x) * np.exp(-a * x**2)\n",
    "\n",
    "\n",
    "print(f\"{forward_difference_derivative(f)(1)=}\")\n",
    "print(f\"{analytical_derivative_f(1)=}\")"
   ]
  },
  {
   "cell_type": "markdown",
   "metadata": {},
   "source": [
    "# Exercise 3 - Part 4"
   ]
  },
  {
   "cell_type": "code",
   "execution_count": 6,
   "metadata": {},
   "outputs": [
    {
     "name": "stdout",
     "output_type": "stream",
     "text": [
      "central_difference_derivative(f)(1)=-7.48156774953081\n"
     ]
    }
   ],
   "source": [
    "def central_difference_derivative(f, h=1e-2):\n",
    "    return lambda x: (f(x + h) - f(x - h)) / (2 * h)\n",
    "\n",
    "\n",
    "print(f\"{central_difference_derivative(f)(1)=}\")"
   ]
  },
  {
   "cell_type": "markdown",
   "metadata": {},
   "source": [
    "# Exercise 3 - Part 5"
   ]
  },
  {
   "cell_type": "code",
   "execution_count": 7,
   "metadata": {},
   "outputs": [
    {
     "data": {
      "text/plain": [
       "<matplotlib.legend.Legend at 0x131d59d2fd0>"
      ]
     },
     "execution_count": 7,
     "metadata": {},
     "output_type": "execute_result"
    },
    {
     "data": {
      "image/png": "[encoded data removed]",
      "text/plain": [
       "<Figure size 432x288 with 1 Axes>"
      ]
     },
     "metadata": {
      "needs_background": "light"
     },
     "output_type": "display_data"
    }
   ],
   "source": [
    "import matplotlib.pyplot as plt\n",
    "\n",
    "step_size_lg = np.arange(-16, 1, dtype=float)\n",
    "point = 1\n",
    "\n",
    "error_fd = np.apply_along_axis(\n",
    "    lambda h: np.abs(\n",
    "        forward_difference_derivative(f, 10**h)(point)\n",
    "        - analytical_derivative_f(point)\n",
    "    ), 0, step_size_lg\n",
    ")\n",
    "\n",
    "error_cd = np.apply_along_axis(\n",
    "    lambda h: np.abs(\n",
    "        central_difference_derivative(f, 10**h)(point)\n",
    "        - analytical_derivative_f(point)\n",
    "    ), 0, step_size_lg\n",
    ")\n",
    "\n",
    "fig = plt.figure()\n",
    "ax = fig.add_subplot(1, 1, 1)\n",
    "error_fd_line = ax.scatter(step_size_lg, error_fd, color=\"b\")\n",
    "error_cd_line = ax.scatter(step_size_lg, error_cd, color=\"r\")\n",
    "ax.set_yscale(\"log\")\n",
    "ax.legend([error_fd_line, error_cd_line], \n",
    "          [\"Forward difference error\", \"Central difference error\"])"
   ]
  }
 ],
 "metadata": {
  "kernelspec": {
   "display_name": "Python 3 (ipykernel)",
   "language": "python",
   "name": "python3"
  },
  "language_info": {
   "codemirror_mode": {
    "name": "ipython",
    "version": 3
   },
   "file_extension": ".py",
   "mimetype": "text/x-python",
   "name": "python",
   "nbconvert_exporter": "python",
   "pygments_lexer": "ipython3",
   "version": "3.9.12"
  },
  "vscode": {
   "interpreter": {
    "hash": "413bbbb19369cc901bad5c15e51d3d9af4ea606eb8f0da4e72ab6f64d3d88561"
   }
  }
 },
 "nbformat": 4,
 "nbformat_minor": 2
}
