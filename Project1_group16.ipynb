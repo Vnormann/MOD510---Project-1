{
 "cells": [
  {
   "cell_type": "code",
   "execution_count": null,
   "metadata": {},
   "outputs": [],
   "source": []
  }
 ],
 "metadata": {
  "kernelspec": {
   "display_name": "Python 3.8.8 ('base')",
   "language": "python",
   "name": "python3"
  },
  "language_info": {
   "name": "python",
   "version": "3.8.8"
  },
  "orig_nbformat": 4,
  "vscode": {
   "interpreter": {
    "hash": "413bbbb19369cc901bad5c15e51d3d9af4ea606eb8f0da4e72ab6f64d3d88561"
   }
  }
 },
 "nbformat": 4,
 "nbformat_minor": 2
}
