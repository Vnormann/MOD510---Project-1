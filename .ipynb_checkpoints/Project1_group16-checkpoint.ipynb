{
 "cells": [
  {
   "cell_type": "markdown",
   "metadata": {},
   "source": [
    "We will try to finish all tasks by Wednesday, when we meet again.\n",
    "On Wednesday we will do Exercise 4 togheter.\n",
    "\n",
    "### Exercise 1\n",
    "- Part 1: all\n",
    "- Part 2: Vetle\n",
    "- Part 3: Imran\n",
    "- Part 4: Jonas\n",
    "\n",
    "### Exercise 2\n",
    "- Part 1: Vetle\n",
    "- Part 2: Vetle\n",
    "- Part 3: Imran\n",
    "- Part 4: Jonas\n",
    "\n",
    "### Exercise 3, Part I\n",
    "- Part 1: Imran\n",
    "- Part 2: Imran\n",
    "- Part 3: Jonas\n",
    "- Part 4: Jonas\n",
    "- Part 5: Vetle\n",
    "\n",
    "### Exercise 3, Part II\n",
    "- Part 1: Imran\n",
    "- Part 2: Vetle\n",
    "\n",
    "### Exercise 4\n",
    "- Parts 1-4: All "
   ]
  },
  {
   "cell_type": "markdown",
   "metadata": {},
   "source": [
    "# Exercise 1 - Part 1\n",
    "\n"
   ]
  },
  {
   "cell_type": "code",
   "execution_count": 4,
   "metadata": {},
   "outputs": [
    {
     "data": {
      "text/plain": [
       "sys.float_info(max=1.7976931348623157e+308, max_exp=1024, max_10_exp=308, min=2.2250738585072014e-308, min_exp=-1021, min_10_exp=-307, dig=15, mant_dig=53, epsilon=2.220446049250313e-16, radix=2, rounds=1)"
      ]
     },
     "execution_count": 4,
     "metadata": {},
     "output_type": "execute_result"
    }
   ],
   "source": [
    "import sys; sys.float_info"
   ]
  },
  {
   "cell_type": "markdown",
   "metadata": {},
   "source": [
    "`sys.float_info.max` is the largest number that can be represented as a 64-bit floating point number using the IEEE implementation.\n",
    "\n",
    "`sys.float_info.max_exp` is the largest exponent in base 2 that the floating point number can store.\n",
    "\n",
    "`sys.float_info.max_10_exp` is the largest exponent in base 10 that the floating point number can store.\n",
    "\n",
    "`sys.float_info.min` is the smallet number that can be represented as a 64-bit floating point number.\n",
    "\n",
    "`sys.float_info.min_exp` is the smallest exponent in base 2 that the floating point number can store.\n",
    "\n",
    "`sys.float_info.min_10_exp` is the smallest exponent in base 10 that the floating point number can store.\n",
    "\n",
    "`sys.float_info.dig` is the number of digits that can be distinguished in a decimal number. I.e. floating point numbers can be used to distinguish 15-digit decimal integers accurately. Above this, the precision cannot be guaranteed.\n",
    "\n",
    "`sys.float_info.mant_dig` is the number of bits in the mantissa.\n",
    "\n",
    "`sys.float_info.epsilon` is the difference between 1.0 and the next number that can be represented as a floating point number.\n",
    "\n",
    "`sys.float_info.radix` is the base number that is used when calculating the exponent factor.\n",
    "\n",
    "`sys.float_info.rounds` is the rounding mode."
   ]
  },
  {
   "cell_type": "markdown",
   "metadata": {},
   "source": [
    "# Exercise 1 - Part 4\n",
    "1. No, generally we cannot use the double equals (==) operator to check for equality between two floats, because we cannot guarantee that a floating point is accurate to infinite precision. The only time this would work, is if the two floats are identical, i.e. their IEEE 754 representations are exactly the same. There are some finite floating numbers for which this is applicable, e.g. -999.25 (which is used as a NULL value in certain scenarios).\n",
    "2. A better approach would be to use something like the `math.isclose` function. Or write an implementation by hand which checks that the absolute difference between the numbers is less than a given tolerance. Another way could be to truncate the floats and check the resulting strings, though this would be less precise."
   ]
  },
  {
   "cell_type": "markdown",
   "metadata": {},
   "source": [
    "# Exercise 2 - Part 4"
   ]
  },
  {
   "cell_type": "code",
   "execution_count": 6,
   "metadata": {},
   "outputs": [
    {
     "data": {
      "text/plain": [
       "array([4, 5], dtype=int64)"
      ]
     },
     "execution_count": 6,
     "metadata": {},
     "output_type": "execute_result"
    }
   ],
   "source": [
    "import numpy as np\n",
    "array_of_numbers = np.array([4, 8, 15, 16, 23, 42])\n",
    "np.where(array_of_numbers > 17)[0]"
   ]
  },
  {
   "cell_type": "markdown",
   "metadata": {},
   "source": [
    "These are the indices for which the filter applied is true. We see that the 5th and 6th numbers, 23 and 42, both are greater than 17. Arrays are zero-indexed as normal."
   ]
  },
  {
   "cell_type": "code",
   "execution_count": null,
   "metadata": {},
   "outputs": [],
   "source": []
  }
 ],
 "metadata": {
  "kernelspec": {
   "display_name": "Python 3 (ipykernel)",
   "language": "python",
   "name": "python3"
  },
  "language_info": {
   "codemirror_mode": {
    "name": "ipython",
    "version": 3
   },
   "file_extension": ".py",
   "mimetype": "text/x-python",
   "name": "python",
   "nbconvert_exporter": "python",
   "pygments_lexer": "ipython3",
   "version": "3.9.12"
  },
  "vscode": {
   "interpreter": {
    "hash": "413bbbb19369cc901bad5c15e51d3d9af4ea606eb8f0da4e72ab6f64d3d88561"
   }
  }
 },
 "nbformat": 4,
 "nbformat_minor": 2
}
